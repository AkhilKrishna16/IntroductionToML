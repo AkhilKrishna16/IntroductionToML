{
 "cells": [
  {
   "cell_type": "markdown",
   "id": "f50e5472",
   "metadata": {},
   "source": [
    "# Simple Imports and Data Loading"
   ]
  },
  {
   "cell_type": "markdown",
   "id": "494c9b2a",
   "metadata": {},
   "source": [
    "## Learning Objectives\n",
    "\n",
    "1. Why is it important to fill NaN values and how do we do it?\n",
    "2. Why is it important for us to analyze the data and ask questions before actual training and testing?\n",
    "3. What can we do with categorical variables for training and testing?\n",
    "4. What are ways that we can make the model training more efficient and less biased?\n",
    "\n",
    "We will use the certain libraries of Pandas, MatPlotLib, and Seaborn as well as later imports of Numpy and Sci-Kit Learn."
   ]
  },
  {
   "cell_type": "code",
   "execution_count": 1,
   "id": "c1fbce76",
   "metadata": {},
   "outputs": [],
   "source": [
    "import pandas as pd\n",
    "import seaborn as sns\n",
    "from matplotlib import pyplot as plt"
   ]
  },
  {
   "cell_type": "code",
   "execution_count": 2,
   "id": "e6fd9098",
   "metadata": {},
   "outputs": [],
   "source": [
    "plt.rcParams['figure.figsize'] = [12, 6]"
   ]
  },
  {
   "cell_type": "code",
   "execution_count": 3,
   "id": "7293c26e",
   "metadata": {},
   "outputs": [],
   "source": [
    "import matplotlib\n",
    "%matplotlib inline"
   ]
  },
  {
   "cell_type": "code",
   "execution_count": 4,
   "id": "7f9ef508",
   "metadata": {},
   "outputs": [],
   "source": [
    "train = pd.read_csv(\"../data/train.csv\")\n",
    "test = pd.read_csv(\"../data/test.csv\")"
   ]
  },
  {
   "cell_type": "markdown",
   "id": "ff0340d8",
   "metadata": {},
   "source": [
    "# Data Analysis"
   ]
  },
  {
   "cell_type": "markdown",
   "id": "ddf25e20",
   "metadata": {},
   "source": [
    "Data can contain some missing values that interfere with smooth training. Most examples include NaN or null values and obviously, we cannot train with such values."
   ]
  },
  {
   "cell_type": "code",
   "execution_count": 5,
   "id": "a6afc6f6",
   "metadata": {},
   "outputs": [
    {
     "name": "stdout",
     "output_type": "stream",
     "text": [
      "The number of unique cabins are 148\n"
     ]
    }
   ],
   "source": [
    "print(f\"The number of unique cabins are {len(train['Cabin'].unique())}\")"
   ]
  },
  {
   "cell_type": "code",
   "execution_count": 6,
   "id": "bc1d6433",
   "metadata": {},
   "outputs": [],
   "source": [
    "cat_columns = [\"Pclass\", \"Sex\", \"Embarked\"]"
   ]
  },
  {
   "cell_type": "code",
   "execution_count": 7,
   "id": "bd007cb5",
   "metadata": {},
   "outputs": [],
   "source": [
    "real_value = [\"Age\", \"SibSp\", \"Fare\", \"Parch\"]"
   ]
  },
  {
   "cell_type": "code",
   "execution_count": 8,
   "id": "daa85138",
   "metadata": {},
   "outputs": [],
   "source": [
    "def isColumnNan(columnName: str) -> bool:\n",
    "    return pd.isna(train[columnName]).any()"
   ]
  },
  {
   "cell_type": "code",
   "execution_count": 9,
   "id": "a59db574",
   "metadata": {},
   "outputs": [
    {
     "name": "stdout",
     "output_type": "stream",
     "text": [
      "The column PassengerId has nan values = False\n",
      "The column Survived has nan values = False\n",
      "The column Pclass has nan values = False\n",
      "The column Name has nan values = False\n",
      "The column Sex has nan values = False\n",
      "The column Age has nan values = True\n",
      "The column SibSp has nan values = False\n",
      "The column Parch has nan values = False\n",
      "The column Ticket has nan values = False\n",
      "The column Fare has nan values = False\n",
      "The column Cabin has nan values = True\n",
      "The column Embarked has nan values = True\n"
     ]
    }
   ],
   "source": [
    "columns = train.keys()\n",
    "\n",
    "nanColumns = list()\n",
    "\n",
    "for col in columns:\n",
    "    isColumnNanVar = isColumnNan(col)\n",
    "    print(f\"The column {col} has nan values = {isColumnNanVar}\")\n",
    "    if isColumnNanVar:\n",
    "        nanColumns.append(col)"
   ]
  },
  {
   "cell_type": "markdown",
   "id": "b388cfa2",
   "metadata": {},
   "source": [
    "# Questions and Hypotheses\n",
    "\n",
    "1. Is there a correlation between age and survival rate? What single features might be correlated to survival rate? \n",
    "**Hypothesis:** Older people are more likely to survive. \n",
    "\n",
    "**Answer:** Looking at the below graph we cant really tell if older or younger people are more likely to survive.\n",
    "\n",
    "1. Do older people have more parents traveling with them? \n",
    "**Hypothesis:** No, older people won't have parents with them. \n",
    "\n",
    "**Answer:** We find out that older people do not have parents with them so our hypothesis was correct."
   ]
  },
  {
   "cell_type": "code",
   "execution_count": 10,
   "id": "82b29620",
   "metadata": {},
   "outputs": [
    {
     "data": {
      "image/png": "[encoded data removed]",
      "text/plain": [
       "<Figure size 1200x600 with 1 Axes>"
      ]
     },
     "metadata": {},
     "output_type": "display_data"
    },
    {
     "data": {
      "text/plain": [
       "<Figure size 4000x1000 with 0 Axes>"
      ]
     },
     "metadata": {},
     "output_type": "display_data"
    }
   ],
   "source": [
    "train[[\"Age\", \"Survived\"]].plot.scatter(y=\"Survived\", x=\"Age\", grid=True)\n",
    "plt.figure(figsize=(40, 10))\n",
    "\n",
    "plt.show()"
   ]
  },
  {
   "cell_type": "code",
   "execution_count": 11,
   "id": "53479115",
   "metadata": {},
   "outputs": [
    {
     "data": {
      "text/html": [
       "<div>\n",
       "<style scoped>\n",
       "    .dataframe tbody tr th:only-of-type {\n",
       "        vertical-align: middle;\n",
       "    }\n",
       "\n",
       "    .dataframe tbody tr th {\n",
       "        vertical-align: top;\n",
       "    }\n",
       "\n",
       "    .dataframe thead th {\n",
       "        text-align: right;\n",
       "    }\n",
       "</style>\n",
       "<table border=\"1\" class=\"dataframe\">\n",
       "  <thead>\n",
       "    <tr style=\"text-align: right;\">\n",
       "      <th></th>\n",
       "      <th>PassengerId</th>\n",
       "      <th>Survived</th>\n",
       "      <th>Pclass</th>\n",
       "      <th>Name</th>\n",
       "      <th>Sex</th>\n",
       "      <th>Age</th>\n",
       "      <th>SibSp</th>\n",
       "      <th>Parch</th>\n",
       "      <th>Ticket</th>\n",
       "      <th>Fare</th>\n",
       "      <th>Cabin</th>\n",
       "      <th>Embarked</th>\n",
       "    </tr>\n",
       "  </thead>\n",
       "  <tbody>\n",
       "    <tr>\n",
       "      <th>0</th>\n",
       "      <td>1</td>\n",
       "      <td>0</td>\n",
       "      <td>3</td>\n",
       "      <td>Braund, Mr. Owen Harris</td>\n",
       "      <td>male</td>\n",
       "      <td>22.0</td>\n",
       "      <td>1</td>\n",
       "      <td>0</td>\n",
       "      <td>A/5 21171</td>\n",
       "      <td>7.2500</td>\n",
       "      <td>NaN</td>\n",
       "      <td>S</td>\n",
       "    </tr>\n",
       "    <tr>\n",
       "      <th>1</th>\n",
       "      <td>2</td>\n",
       "      <td>1</td>\n",
       "      <td>1</td>\n",
       "      <td>Cumings, Mrs. John Bradley (Florence Briggs Th...</td>\n",
       "      <td>female</td>\n",
       "      <td>38.0</td>\n",
       "      <td>1</td>\n",
       "      <td>0</td>\n",
       "      <td>PC 17599</td>\n",
       "      <td>71.2833</td>\n",
       "      <td>C85</td>\n",
       "      <td>C</td>\n",
       "    </tr>\n",
       "    <tr>\n",
       "      <th>2</th>\n",
       "      <td>3</td>\n",
       "      <td>1</td>\n",
       "      <td>3</td>\n",
       "      <td>Heikkinen, Miss. Laina</td>\n",
       "      <td>female</td>\n",
       "      <td>26.0</td>\n",
       "      <td>0</td>\n",
       "      <td>0</td>\n",
       "      <td>STON/O2. 3101282</td>\n",
       "      <td>7.9250</td>\n",
       "      <td>NaN</td>\n",
       "      <td>S</td>\n",
       "    </tr>\n",
       "    <tr>\n",
       "      <th>3</th>\n",
       "      <td>4</td>\n",
       "      <td>1</td>\n",
       "      <td>1</td>\n",
       "      <td>Futrelle, Mrs. Jacques Heath (Lily May Peel)</td>\n",
       "      <td>female</td>\n",
       "      <td>35.0</td>\n",
       "      <td>1</td>\n",
       "      <td>0</td>\n",
       "      <td>113803</td>\n",
       "      <td>53.1000</td>\n",
       "      <td>C123</td>\n",
       "      <td>S</td>\n",
       "    </tr>\n",
       "    <tr>\n",
       "      <th>4</th>\n",
       "      <td>5</td>\n",
       "      <td>0</td>\n",
       "      <td>3</td>\n",
       "      <td>Allen, Mr. William Henry</td>\n",
       "      <td>male</td>\n",
       "      <td>35.0</td>\n",
       "      <td>0</td>\n",
       "      <td>0</td>\n",
       "      <td>373450</td>\n",
       "      <td>8.0500</td>\n",
       "      <td>NaN</td>\n",
       "      <td>S</td>\n",
       "    </tr>\n",
       "    <tr>\n",
       "      <th>...</th>\n",
       "      <td>...</td>\n",
       "      <td>...</td>\n",
       "      <td>...</td>\n",
       "      <td>...</td>\n",
       "      <td>...</td>\n",
       "      <td>...</td>\n",
       "      <td>...</td>\n",
       "      <td>...</td>\n",
       "      <td>...</td>\n",
       "      <td>...</td>\n",
       "      <td>...</td>\n",
       "      <td>...</td>\n",
       "    </tr>\n",
       "    <tr>\n",
       "      <th>886</th>\n",
       "      <td>887</td>\n",
       "      <td>0</td>\n",
       "      <td>2</td>\n",
       "      <td>Montvila, Rev. Juozas</td>\n",
       "      <td>male</td>\n",
       "      <td>27.0</td>\n",
       "      <td>0</td>\n",
       "      <td>0</td>\n",
       "      <td>211536</td>\n",
       "      <td>13.0000</td>\n",
       "      <td>NaN</td>\n",
       "      <td>S</td>\n",
       "    </tr>\n",
       "    <tr>\n",
       "      <th>887</th>\n",
       "      <td>888</td>\n",
       "      <td>1</td>\n",
       "      <td>1</td>\n",
       "      <td>Graham, Miss. Margaret Edith</td>\n",
       "      <td>female</td>\n",
       "      <td>19.0</td>\n",
       "      <td>0</td>\n",
       "      <td>0</td>\n",
       "      <td>112053</td>\n",
       "      <td>30.0000</td>\n",
       "      <td>B42</td>\n",
       "      <td>S</td>\n",
       "    </tr>\n",
       "    <tr>\n",
       "      <th>888</th>\n",
       "      <td>889</td>\n",
       "      <td>0</td>\n",
       "      <td>3</td>\n",
       "      <td>Johnston, Miss. Catherine Helen \"Carrie\"</td>\n",
       "      <td>female</td>\n",
       "      <td>NaN</td>\n",
       "      <td>1</td>\n",
       "      <td>2</td>\n",
       "      <td>W./C. 6607</td>\n",
       "      <td>23.4500</td>\n",
       "      <td>NaN</td>\n",
       "      <td>S</td>\n",
       "    </tr>\n",
       "    <tr>\n",
       "      <th>889</th>\n",
       "      <td>890</td>\n",
       "      <td>1</td>\n",
       "      <td>1</td>\n",
       "      <td>Behr, Mr. Karl Howell</td>\n",
       "      <td>male</td>\n",
       "      <td>26.0</td>\n",
       "      <td>0</td>\n",
       "      <td>0</td>\n",
       "      <td>111369</td>\n",
       "      <td>30.0000</td>\n",
       "      <td>C148</td>\n",
       "      <td>C</td>\n",
       "    </tr>\n",
       "    <tr>\n",
       "      <th>890</th>\n",
       "      <td>891</td>\n",
       "      <td>0</td>\n",
       "      <td>3</td>\n",
       "      <td>Dooley, Mr. Patrick</td>\n",
       "      <td>male</td>\n",
       "      <td>32.0</td>\n",
       "      <td>0</td>\n",
       "      <td>0</td>\n",
       "      <td>370376</td>\n",
       "      <td>7.7500</td>\n",
       "      <td>NaN</td>\n",
       "      <td>Q</td>\n",
       "    </tr>\n",
       "  </tbody>\n",
       "</table>\n",
       "<p>891 rows × 12 columns</p>\n",
       "</div>"
      ],
      "text/plain": [
       "     PassengerId  Survived  Pclass  \\\n",
       "0              1         0       3   \n",
       "1              2         1       1   \n",
       "2              3         1       3   \n",
       "3              4         1       1   \n",
       "4              5         0       3   \n",
       "..           ...       ...     ...   \n",
       "886          887         0       2   \n",
       "887          888         1       1   \n",
       "888          889         0       3   \n",
       "889          890         1       1   \n",
       "890          891         0       3   \n",
       "\n",
       "                                                  Name     Sex   Age  SibSp  \\\n",
       "0                              Braund, Mr. Owen Harris    male  22.0      1   \n",
       "1    Cumings, Mrs. John Bradley (Florence Briggs Th...  female  38.0      1   \n",
       "2                               Heikkinen, Miss. Laina  female  26.0      0   \n",
       "3         Futrelle, Mrs. Jacques Heath (Lily May Peel)  female  35.0      1   \n",
       "4                             Allen, Mr. William Henry    male  35.0      0   \n",
       "..                                                 ...     ...   ...    ...   \n",
       "886                              Montvila, Rev. Juozas    male  27.0      0   \n",
       "887                       Graham, Miss. Margaret Edith  female  19.0      0   \n",
       "888           Johnston, Miss. Catherine Helen \"Carrie\"  female   NaN      1   \n",
       "889                              Behr, Mr. Karl Howell    male  26.0      0   \n",
       "890                                Dooley, Mr. Patrick    male  32.0      0   \n",
       "\n",
       "     Parch            Ticket     Fare Cabin Embarked  \n",
       "0        0         A/5 21171   7.2500   NaN        S  \n",
       "1        0          PC 17599  71.2833   C85        C  \n",
       "2        0  STON/O2. 3101282   7.9250   NaN        S  \n",
       "3        0            113803  53.1000  C123        S  \n",
       "4        0            373450   8.0500   NaN        S  \n",
       "..     ...               ...      ...   ...      ...  \n",
       "886      0            211536  13.0000   NaN        S  \n",
       "887      0            112053  30.0000   B42        S  \n",
       "888      2        W./C. 6607  23.4500   NaN        S  \n",
       "889      0            111369  30.0000  C148        C  \n",
       "890      0            370376   7.7500   NaN        Q  \n",
       "\n",
       "[891 rows x 12 columns]"
      ]
     },
     "execution_count": 11,
     "metadata": {},
     "output_type": "execute_result"
    }
   ],
   "source": [
    "train"
   ]
  },
  {
   "cell_type": "code",
   "execution_count": 59,
   "id": "986dac65",
   "metadata": {},
   "outputs": [],
   "source": [
    "# help(sns.scatterplot)\n",
    "print(\"\")"
   ]
  },
  {
   "cell_type": "code",
   "execution_count": 57,
   "id": "86b5361d",
   "metadata": {},
   "outputs": [
    {
     "data": {
      "image/png": "[encoded data removed]",
      "text/plain": [
       "<Figure size 1200x600 with 1 Axes>"
      ]
     },
     "metadata": {},
     "output_type": "display_data"
    }
   ],
   "source": [
    "g = sns.scatterplot(x=\"Age\", y=\"Parch\", hue=\"Survived\",data=train[[\"Age\", \"Parch\", \"Survived\"]], legend=True)\n",
    "\n",
    "# plt.legend(title='Survival Status', loc='upper right', labels=['Survived', 'Not Survived'])"
   ]
  },
  {
   "cell_type": "markdown",
   "id": "74bd4211",
   "metadata": {},
   "source": [
    "# Feature Preprocessing\n",
    "\n",
    "\n",
    "1. Handle NaN or null values\n",
    "2. OneHotEncode categorical variables "
   ]
  },
  {
   "cell_type": "markdown",
   "id": "f9b0e339",
   "metadata": {},
   "source": [
    "### Missing values handling"
   ]
  },
  {
   "cell_type": "markdown",
   "id": "cb5f08d9",
   "metadata": {},
   "source": [
    "**The impute function** is a generic function that allows us to fix NaN values in either categorical variables and numerical variables. We replace the missing values with the mean of the variable for numerical variables and the mode for the categorial variables."
   ]
  },
  {
   "cell_type": "code",
   "execution_count": 13,
   "id": "b5c5b7c9",
   "metadata": {},
   "outputs": [],
   "source": [
    "# ANSWER\n",
    "\n",
    "def impute(column_name) -> None:\n",
    "    if column_name in real_value:\n",
    "        mean = train[column_name].mean()\n",
    "        train.loc[pd.isna(train[column_name]), column_name] = mean\n",
    "    elif column_name in cat_columns:\n",
    "        mode = train[column_name].mode()\n",
    "        train.loc[pd.isna(train[column_name]), column_name] = mode[0]\n",
    "    else:\n",
    "        print(\"Value is not in list.\")"
   ]
  },
  {
   "cell_type": "markdown",
   "id": "61b44bbf",
   "metadata": {},
   "source": [
    "We can identify certain columns of type categorical or numerical based on our data analysis of every column in the dataset. Through this we can define a function that takes parameters of the specific column and the dataframe (in this case, 'train') and then judge what we should replace the missing values with if any. If not present, we simply output an indication that it is not present. "
   ]
  },
  {
   "cell_type": "code",
   "execution_count": 14,
   "id": "b2e15e4e",
   "metadata": {},
   "outputs": [],
   "source": [
    "impute('Age')\n",
    "impute('Embarked')"
   ]
  },
  {
   "cell_type": "markdown",
   "id": "e28e9dab",
   "metadata": {},
   "source": [
    "### One hot encoding"
   ]
  },
  {
   "cell_type": "markdown",
   "id": "2ca25b1d",
   "metadata": {},
   "source": [
    "**OneHotEncoder** is a class from Sci-Kit Learn that allows for categorical features to be parsed in such a way that it can be used for computation. With regular categorical values (letters, names), it would be very tedious to train the model and get it to involve such non-numerical values. However, **OneHotEncoder** allows for much easier translation and prediction. "
   ]
  },
  {
   "cell_type": "code",
   "execution_count": 15,
   "id": "d1defc4f",
   "metadata": {},
   "outputs": [],
   "source": [
    "from sklearn.preprocessing import OneHotEncoder"
   ]
  },
  {
   "cell_type": "code",
   "execution_count": 16,
   "id": "f215a02f",
   "metadata": {},
   "outputs": [],
   "source": [
    "oneHotModel = OneHotEncoder()"
   ]
  },
  {
   "cell_type": "markdown",
   "id": "bc0bbe48",
   "metadata": {},
   "source": [
    "### Sparse matrices"
   ]
  },
  {
   "cell_type": "markdown",
   "id": "ec920504",
   "metadata": {},
   "source": [
    "**Sparse matrices** are matrices that not only store the values but also the location of the values that make it much easier for model training. This should be not to worried to build on one's own but is important to understand for later usage of the specific type of matrices."
   ]
  },
  {
   "cell_type": "code",
   "execution_count": 17,
   "id": "e6761dfc",
   "metadata": {},
   "outputs": [],
   "source": [
    "import numpy as np\n",
    "from scipy import sparse # Sparse Import"
   ]
  },
  {
   "cell_type": "code",
   "execution_count": 18,
   "id": "f684e08e",
   "metadata": {},
   "outputs": [],
   "source": [
    "X = np.array(([0, 34, 0], [36, 0, 0], [0, 0, 0]))"
   ]
  },
  {
   "cell_type": "code",
   "execution_count": 19,
   "id": "06697468",
   "metadata": {},
   "outputs": [],
   "source": [
    "sparse_X = sparse.csr_matrix(X)"
   ]
  },
  {
   "cell_type": "code",
   "execution_count": 20,
   "id": "ad0816ff",
   "metadata": {},
   "outputs": [
    {
     "name": "stdout",
     "output_type": "stream",
     "text": [
      "  (0, 1)\t34\n",
      "  (1, 0)\t36\n"
     ]
    }
   ],
   "source": [
    "print(sparse_X)"
   ]
  },
  {
   "cell_type": "code",
   "execution_count": 21,
   "id": "3cb114d9",
   "metadata": {},
   "outputs": [],
   "source": [
    "oneHotArray = oneHotModel.fit_transform(train[cat_columns]).toarray()"
   ]
  },
  {
   "cell_type": "markdown",
   "id": "ea7f3bc4",
   "metadata": {},
   "source": [
    "Embarked: C = Cherbourg, Q = Queenstown, S = Southampton"
   ]
  },
  {
   "cell_type": "markdown",
   "id": "35e9ecda",
   "metadata": {},
   "source": [
    "We show and understand that OneHotEncoding does work on categorical variables and that it is present in our dataset."
   ]
  },
  {
   "cell_type": "code",
   "execution_count": 22,
   "id": "a352d34d",
   "metadata": {},
   "outputs": [
    {
     "data": {
      "text/plain": [
       "['Pclass', 'Sex', 'Embarked']"
      ]
     },
     "execution_count": 22,
     "metadata": {},
     "output_type": "execute_result"
    }
   ],
   "source": [
    "cat_columns"
   ]
  },
  {
   "cell_type": "code",
   "execution_count": 23,
   "id": "db2b3421",
   "metadata": {},
   "outputs": [
    {
     "data": {
      "text/plain": [
       "[array([1, 2, 3]),\n",
       " array(['female', 'male'], dtype=object),\n",
       " array(['C', 'Q', 'S'], dtype=object)]"
      ]
     },
     "execution_count": 23,
     "metadata": {},
     "output_type": "execute_result"
    }
   ],
   "source": [
    "oneHotModel.categories_"
   ]
  },
  {
   "cell_type": "code",
   "execution_count": 24,
   "id": "8619d6c6",
   "metadata": {},
   "outputs": [
    {
     "data": {
      "text/html": [
       "<div>\n",
       "<style scoped>\n",
       "    .dataframe tbody tr th:only-of-type {\n",
       "        vertical-align: middle;\n",
       "    }\n",
       "\n",
       "    .dataframe tbody tr th {\n",
       "        vertical-align: top;\n",
       "    }\n",
       "\n",
       "    .dataframe thead th {\n",
       "        text-align: right;\n",
       "    }\n",
       "</style>\n",
       "<table border=\"1\" class=\"dataframe\">\n",
       "  <thead>\n",
       "    <tr style=\"text-align: right;\">\n",
       "      <th></th>\n",
       "      <th>PassengerId</th>\n",
       "      <th>Survived</th>\n",
       "      <th>Pclass</th>\n",
       "      <th>Name</th>\n",
       "      <th>Sex</th>\n",
       "      <th>Age</th>\n",
       "      <th>SibSp</th>\n",
       "      <th>Parch</th>\n",
       "      <th>Ticket</th>\n",
       "      <th>Fare</th>\n",
       "      <th>Cabin</th>\n",
       "      <th>Embarked</th>\n",
       "    </tr>\n",
       "  </thead>\n",
       "  <tbody>\n",
       "    <tr>\n",
       "      <th>601</th>\n",
       "      <td>602</td>\n",
       "      <td>0</td>\n",
       "      <td>3</td>\n",
       "      <td>Slabenoff, Mr. Petco</td>\n",
       "      <td>male</td>\n",
       "      <td>29.699118</td>\n",
       "      <td>0</td>\n",
       "      <td>0</td>\n",
       "      <td>349214</td>\n",
       "      <td>7.8958</td>\n",
       "      <td>NaN</td>\n",
       "      <td>S</td>\n",
       "    </tr>\n",
       "    <tr>\n",
       "      <th>804</th>\n",
       "      <td>805</td>\n",
       "      <td>1</td>\n",
       "      <td>3</td>\n",
       "      <td>Hedman, Mr. Oskar Arvid</td>\n",
       "      <td>male</td>\n",
       "      <td>27.000000</td>\n",
       "      <td>0</td>\n",
       "      <td>0</td>\n",
       "      <td>347089</td>\n",
       "      <td>6.9750</td>\n",
       "      <td>NaN</td>\n",
       "      <td>S</td>\n",
       "    </tr>\n",
       "    <tr>\n",
       "      <th>758</th>\n",
       "      <td>759</td>\n",
       "      <td>0</td>\n",
       "      <td>3</td>\n",
       "      <td>Theobald, Mr. Thomas Leonard</td>\n",
       "      <td>male</td>\n",
       "      <td>34.000000</td>\n",
       "      <td>0</td>\n",
       "      <td>0</td>\n",
       "      <td>363294</td>\n",
       "      <td>8.0500</td>\n",
       "      <td>NaN</td>\n",
       "      <td>S</td>\n",
       "    </tr>\n",
       "    <tr>\n",
       "      <th>524</th>\n",
       "      <td>525</td>\n",
       "      <td>0</td>\n",
       "      <td>3</td>\n",
       "      <td>Kassem, Mr. Fared</td>\n",
       "      <td>male</td>\n",
       "      <td>29.699118</td>\n",
       "      <td>0</td>\n",
       "      <td>0</td>\n",
       "      <td>2700</td>\n",
       "      <td>7.2292</td>\n",
       "      <td>NaN</td>\n",
       "      <td>C</td>\n",
       "    </tr>\n",
       "    <tr>\n",
       "      <th>163</th>\n",
       "      <td>164</td>\n",
       "      <td>0</td>\n",
       "      <td>3</td>\n",
       "      <td>Calic, Mr. Jovo</td>\n",
       "      <td>male</td>\n",
       "      <td>17.000000</td>\n",
       "      <td>0</td>\n",
       "      <td>0</td>\n",
       "      <td>315093</td>\n",
       "      <td>8.6625</td>\n",
       "      <td>NaN</td>\n",
       "      <td>S</td>\n",
       "    </tr>\n",
       "  </tbody>\n",
       "</table>\n",
       "</div>"
      ],
      "text/plain": [
       "     PassengerId  Survived  Pclass                          Name   Sex  \\\n",
       "601          602         0       3          Slabenoff, Mr. Petco  male   \n",
       "804          805         1       3       Hedman, Mr. Oskar Arvid  male   \n",
       "758          759         0       3  Theobald, Mr. Thomas Leonard  male   \n",
       "524          525         0       3             Kassem, Mr. Fared  male   \n",
       "163          164         0       3               Calic, Mr. Jovo  male   \n",
       "\n",
       "           Age  SibSp  Parch  Ticket    Fare Cabin Embarked  \n",
       "601  29.699118      0      0  349214  7.8958   NaN        S  \n",
       "804  27.000000      0      0  347089  6.9750   NaN        S  \n",
       "758  34.000000      0      0  363294  8.0500   NaN        S  \n",
       "524  29.699118      0      0    2700  7.2292   NaN        C  \n",
       "163  17.000000      0      0  315093  8.6625   NaN        S  "
      ]
     },
     "execution_count": 24,
     "metadata": {},
     "output_type": "execute_result"
    }
   ],
   "source": [
    "train.sample(5)"
   ]
  },
  {
   "cell_type": "code",
   "execution_count": 25,
   "id": "9006b76b",
   "metadata": {},
   "outputs": [
    {
     "data": {
      "text/plain": [
       "array([1., 0., 0., 1., 0., 1., 0., 0.])"
      ]
     },
     "execution_count": 25,
     "metadata": {},
     "output_type": "execute_result"
    }
   ],
   "source": [
    "oneHotArray[198]\n",
    "oneHotArray[707]\n",
    "oneHotArray[199]\n",
    "oneHotArray[683]\n",
    "oneHotArray[835]"
   ]
  },
  {
   "cell_type": "markdown",
   "id": "f437e962",
   "metadata": {},
   "source": [
    "The above shows our one hot works. "
   ]
  },
  {
   "cell_type": "code",
   "execution_count": 26,
   "id": "de69b752",
   "metadata": {},
   "outputs": [
    {
     "data": {
      "text/plain": [
       "array([[0., 0., 1., ..., 0., 0., 1.],\n",
       "       [1., 0., 0., ..., 1., 0., 0.],\n",
       "       [0., 0., 1., ..., 0., 0., 1.],\n",
       "       ...,\n",
       "       [0., 0., 1., ..., 0., 0., 1.],\n",
       "       [1., 0., 0., ..., 1., 0., 0.],\n",
       "       [0., 0., 1., ..., 0., 1., 0.]])"
      ]
     },
     "execution_count": 26,
     "metadata": {},
     "output_type": "execute_result"
    }
   ],
   "source": [
    "oneHotArray"
   ]
  },
  {
   "cell_type": "markdown",
   "id": "8de68d89",
   "metadata": {},
   "source": [
    "The axis in np.concatenate represents the axis in which the values are being added. **axis=0** or default represents the axis being added from the respective to the rows. **axis=1** or default represents the axis being added from the respective to the columns"
   ]
  },
  {
   "cell_type": "code",
   "execution_count": 27,
   "id": "9a16a3b4",
   "metadata": {},
   "outputs": [
    {
     "data": {
      "text/plain": [
       "(891, 8)"
      ]
     },
     "execution_count": 27,
     "metadata": {},
     "output_type": "execute_result"
    }
   ],
   "source": [
    "oneHotArray.shape"
   ]
  },
  {
   "cell_type": "code",
   "execution_count": 28,
   "id": "6a39f137",
   "metadata": {},
   "outputs": [],
   "source": [
    "realValueArray = np.array(train[real_value])"
   ]
  },
  {
   "cell_type": "code",
   "execution_count": 29,
   "id": "90716ced",
   "metadata": {},
   "outputs": [
    {
     "data": {
      "text/plain": [
       "(891, 4)"
      ]
     },
     "execution_count": 29,
     "metadata": {},
     "output_type": "execute_result"
    }
   ],
   "source": [
    "realValueArray.shape"
   ]
  },
  {
   "cell_type": "code",
   "execution_count": 30,
   "id": "f6a6cec7",
   "metadata": {},
   "outputs": [
    {
     "data": {
      "text/plain": [
       "array([[ 0, 34,  0],\n",
       "       [36,  0,  0],\n",
       "       [ 0,  0,  0]])"
      ]
     },
     "execution_count": 30,
     "metadata": {},
     "output_type": "execute_result"
    }
   ],
   "source": [
    "X"
   ]
  },
  {
   "cell_type": "code",
   "execution_count": 31,
   "id": "fd5f9841",
   "metadata": {},
   "outputs": [],
   "source": [
    "X_data = np.concatenate((realValueArray, oneHotArray), axis = 1)"
   ]
  },
  {
   "cell_type": "code",
   "execution_count": 32,
   "id": "a3e5d329",
   "metadata": {},
   "outputs": [
    {
     "data": {
      "text/plain": [
       "array([[0., 0., 1., ..., 0., 0., 1.],\n",
       "       [1., 0., 0., ..., 1., 0., 0.],\n",
       "       [0., 0., 1., ..., 0., 0., 1.],\n",
       "       ...,\n",
       "       [0., 0., 1., ..., 0., 0., 1.],\n",
       "       [1., 0., 0., ..., 1., 0., 0.],\n",
       "       [0., 0., 1., ..., 0., 1., 0.]])"
      ]
     },
     "execution_count": 32,
     "metadata": {},
     "output_type": "execute_result"
    }
   ],
   "source": [
    "X_data[:, 4:]"
   ]
  },
  {
   "cell_type": "code",
   "execution_count": 33,
   "id": "5c9d0c3e",
   "metadata": {},
   "outputs": [],
   "source": [
    "Y_data = np.array(train[\"Survived\"])"
   ]
  },
  {
   "cell_type": "code",
   "execution_count": 34,
   "id": "b42ff289",
   "metadata": {},
   "outputs": [
    {
     "data": {
      "text/plain": [
       "((891, 12), (891,))"
      ]
     },
     "execution_count": 34,
     "metadata": {},
     "output_type": "execute_result"
    }
   ],
   "source": [
    "X_data.shape, Y_data.shape"
   ]
  },
  {
   "cell_type": "markdown",
   "id": "5e2a8646",
   "metadata": {},
   "source": [
    "## Machine learning model \n",
    "\n",
    "1. Shuffle the data \n",
    "1. Create cross validation sets \n",
    "1. Train logistic regression classifier\n",
    "    1. Analysis of logistic regression\n",
    "1. Train decision tree classifier\n",
    "1. Train random forest classifier"
   ]
  },
  {
   "cell_type": "markdown",
   "id": "9576f2bb",
   "metadata": {},
   "source": [
    "### Shuffling Data and Concatenation"
   ]
  },
  {
   "cell_type": "code",
   "execution_count": 35,
   "id": "2fb1310a",
   "metadata": {},
   "outputs": [],
   "source": [
    "Y_data = Y_data.reshape(891, 1)"
   ]
  },
  {
   "cell_type": "code",
   "execution_count": 36,
   "id": "6257e979",
   "metadata": {},
   "outputs": [],
   "source": [
    "X = np.concatenate((X_data, Y_data), axis = 1)"
   ]
  },
  {
   "cell_type": "markdown",
   "id": "87f1cde7",
   "metadata": {},
   "source": [
    "We can simply concatenate a column which is the row count of the training dataset and just 1 for the column obviously. Then we just use **np.concatenate** to add the column to the front of the dataset. This allows us to add an index column to the dataset and make it easier for the model to train and for us to access certain data."
   ]
  },
  {
   "cell_type": "code",
   "execution_count": 37,
   "id": "b864b122",
   "metadata": {},
   "outputs": [
    {
     "data": {
      "text/plain": [
       "(array([24.,  0., 13.,  0.,  0.,  1.,  0.,  1.,  0.,  0.,  0.,  1.,  0.]),\n",
       " array([199.,  24.,   0.,  13.,   0.,   0.,   1.,   0.,   1.,   0.,   0.,\n",
       "          0.,   1.,   0.]))"
      ]
     },
     "execution_count": 37,
     "metadata": {},
     "output_type": "execute_result"
    }
   ],
   "source": [
    "train_index = np.array(train.index).reshape(891, 1)\n",
    "X_with_index = np.concatenate((train_index, X), axis=1)\n",
    "\n",
    "X_with_index\n",
    "X[199, :], X_with_index[199, :]"
   ]
  },
  {
   "cell_type": "code",
   "execution_count": 38,
   "id": "530448fe",
   "metadata": {},
   "outputs": [],
   "source": [
    "np.random.shuffle(X)"
   ]
  },
  {
   "cell_type": "code",
   "execution_count": 39,
   "id": "74ef4423",
   "metadata": {},
   "outputs": [
    {
     "data": {
      "text/plain": [
       "(891, 13)"
      ]
     },
     "execution_count": 39,
     "metadata": {},
     "output_type": "execute_result"
    }
   ],
   "source": [
    "X.shape"
   ]
  },
  {
   "cell_type": "markdown",
   "id": "2df22f5b",
   "metadata": {},
   "source": [
    "### K-Cross Fold Validation and Metrics"
   ]
  },
  {
   "cell_type": "code",
   "execution_count": 40,
   "id": "841f1a4b",
   "metadata": {},
   "outputs": [],
   "source": [
    "from sklearn.model_selection import KFold\n",
    "from sklearn.linear_model import LogisticRegression\n",
    "from sklearn.metrics import precision_score\n",
    "from sklearn.metrics import recall_score"
   ]
  },
  {
   "cell_type": "code",
   "execution_count": 41,
   "id": "ff1577e5",
   "metadata": {},
   "outputs": [],
   "source": [
    "kFoldModel = KFold(n_splits=3)"
   ]
  },
  {
   "cell_type": "markdown",
   "id": "f9ed8c81",
   "metadata": {},
   "source": [
    "**F1-score** is simply the calculation listed below. Parameters it needs is just precision and recall.\n",
    "\n",
    "**Precision** is the amount of relate accuracy of the true positives as well as the significance of it. The formula is just **(true-positives)/(true-positives + false_positives)**. We can simply calculate this by comparing the ground truth and predictions to find the needed values.\n",
    "\n",
    "**Recall** is the measure of the ability of the model to predict true positives. The formula is just **(true-positives)/(true-positives + false-negatives)**. Again, we can simply calculate this by comparing the ground truth and predictions to find the needed values. "
   ]
  },
  {
   "cell_type": "code",
   "execution_count": 42,
   "id": "e65115d9",
   "metadata": {},
   "outputs": [],
   "source": [
    "def f1_score(precision, recall):\n",
    "    return (precision * recall) / (precision + recall)"
   ]
  },
  {
   "cell_type": "code",
   "execution_count": 43,
   "id": "e23d11d3",
   "metadata": {},
   "outputs": [],
   "source": [
    "def precision(ground_truth, predictions) -> float:\n",
    "    \n",
    "    true_positives = 0\n",
    "    false_positives = 0\n",
    "    for i in enumerate(ground_truth):\n",
    "        if ground_truth[i[0]] == predictions[i[0]] and ground_truth[i[0]] == 1:\n",
    "            true_positives += 1;\n",
    "        elif ground_truth[i[0]] != predictions[i[0]] and ground_truth[i[0]] == 0:\n",
    "            false_positives += 1;\n",
    "        \n",
    "    \n",
    "    return (true_positives) / (true_positives + false_positives)"
   ]
  },
  {
   "cell_type": "code",
   "execution_count": 44,
   "id": "87ddfcf5",
   "metadata": {},
   "outputs": [],
   "source": [
    "def recall(ground_truth, predictions) -> float:\n",
    "    \n",
    "    false_negatives = 0\n",
    "    true_positives = 0\n",
    "    for i in enumerate(ground_truth):\n",
    "        if ground_truth[i[0]] == predictions[i[0]] and ground_truth[i[0]] == 1:\n",
    "            true_positives += 1;\n",
    "        elif ground_truth[i[0]] != predictions[i[0]] and ground_truth[i[0]] == 1:\n",
    "            false_negatives += 1;\n",
    "        \n",
    "    \n",
    "    return (true_positives) / (true_positives + false_negatives)"
   ]
  },
  {
   "cell_type": "code",
   "execution_count": 45,
   "id": "f5ac049a",
   "metadata": {},
   "outputs": [
    {
     "name": "stdout",
     "output_type": "stream",
     "text": [
      "Training cross validation iteration 1\n",
      "The precision of LR is = 0.7818181818181819\n",
      "Training cross validation iteration 2\n",
      "The precision of LR is = 0.776595744680851\n",
      "Training cross validation iteration 3\n",
      "The precision of LR is = 0.7115384615384616\n"
     ]
    },
    {
     "name": "stderr",
     "output_type": "stream",
     "text": [
      "/Users/akhilkrishnamurthy/opt/anaconda3/lib/python3.9/site-packages/sklearn/linear_model/_logistic.py:814: ConvergenceWarning: lbfgs failed to converge (status=1):\n",
      "STOP: TOTAL NO. of ITERATIONS REACHED LIMIT.\n",
      "\n",
      "Increase the number of iterations (max_iter) or scale the data as shown in:\n",
      "    https://scikit-learn.org/stable/modules/preprocessing.html\n",
      "Please also refer to the documentation for alternative solver options:\n",
      "    https://scikit-learn.org/stable/modules/linear_model.html#logistic-regression\n",
      "  n_iter_i = _check_optimize_result(\n",
      "/Users/akhilkrishnamurthy/opt/anaconda3/lib/python3.9/site-packages/sklearn/linear_model/_logistic.py:814: ConvergenceWarning: lbfgs failed to converge (status=1):\n",
      "STOP: TOTAL NO. of ITERATIONS REACHED LIMIT.\n",
      "\n",
      "Increase the number of iterations (max_iter) or scale the data as shown in:\n",
      "    https://scikit-learn.org/stable/modules/preprocessing.html\n",
      "Please also refer to the documentation for alternative solver options:\n",
      "    https://scikit-learn.org/stable/modules/linear_model.html#logistic-regression\n",
      "  n_iter_i = _check_optimize_result(\n",
      "/Users/akhilkrishnamurthy/opt/anaconda3/lib/python3.9/site-packages/sklearn/linear_model/_logistic.py:814: ConvergenceWarning: lbfgs failed to converge (status=1):\n",
      "STOP: TOTAL NO. of ITERATIONS REACHED LIMIT.\n",
      "\n",
      "Increase the number of iterations (max_iter) or scale the data as shown in:\n",
      "    https://scikit-learn.org/stable/modules/preprocessing.html\n",
      "Please also refer to the documentation for alternative solver options:\n",
      "    https://scikit-learn.org/stable/modules/linear_model.html#logistic-regression\n",
      "  n_iter_i = _check_optimize_result(\n"
     ]
    }
   ],
   "source": [
    "from sklearn.linear_model import LogisticRegression\n",
    "from sklearn.metrics import precision_score\n",
    "from sklearn.metrics import recall_score\n",
    "\n",
    "\n",
    "for i, indices in enumerate(kFoldModel.split(X)):\n",
    "    print(f\"Training cross validation iteration {i + 1}\")\n",
    "    logitModel = LogisticRegression()\n",
    "    trainIndices = indices[0]\n",
    "    testIndices = indices[1]\n",
    "    \n",
    "    train_val_data_x = X[trainIndices, :12]\n",
    "    train_val_data_y = X[trainIndices, 12]\n",
    "    \n",
    "    test_val_data_x = X[testIndices, :12]\n",
    "    test_val_data_y = X[testIndices, 12]\n",
    "    \n",
    "    logitModel.fit(train_val_data_x, train_val_data_y)\n",
    "    \n",
    "    predictions = logitModel.predict(test_val_data_x)\n",
    "    \n",
    "    p_score = precision_score(test_val_data_y, predictions)\n",
    "    \n",
    "    print(f\"The precision of LR is = {p_score}\")\n",
    "    "
   ]
  },
  {
   "cell_type": "markdown",
   "id": "59b0f33c",
   "metadata": {},
   "source": [
    "This is the part that takes the longest to compute. In this case, we will try to find the optimal hyperparameter for the **n_estimators** parameters for the RandomForestClassifier. We can simply do this by training the model over many different **n_estimator** values and finding the optimal prediction for it."
   ]
  },
  {
   "cell_type": "markdown",
   "id": "905d385e",
   "metadata": {},
   "source": [
    "Intuitively, finding the optimal values for the hyperparameters involves doing a complete search over the values. However, with such large values of the dataset and the hyperparameter testing values, we can use a predefined idea of a **GridSearch**. GridSearch involves us finding the ideal hyperparameter values with O(n^3) time complexity (all in all) but only a constant list of hyperparameters for us to search. In this case, our hyperparameters are **n_estimators** and **max_depth**. Therefore, we create two lists for each respective hyperparameters such that we can check over each one and compare the performance."
   ]
  },
  {
   "cell_type": "code",
   "execution_count": 46,
   "id": "3021b3fe",
   "metadata": {},
   "outputs": [
    {
     "name": "stdout",
     "output_type": "stream",
     "text": [
      "Current estimator: 5\n",
      "Current maximum depth: 3\n",
      "Average precision score: 0.8090620652210797\n",
      "Average recall score: 0.5580668624411996\n",
      "-----------------------------\n",
      "Current estimator: 5\n",
      "Current maximum depth: 6\n",
      "Average precision score: 0.8289584974951022\n",
      "Average recall score: 0.6433300704244501\n",
      "-----------------------------\n",
      "Current estimator: 5\n",
      "Current maximum depth: 9\n",
      "Average precision score: 0.7930655120014011\n",
      "Average recall score: 0.683721256945011\n",
      "-----------------------------\n",
      "Current estimator: 5\n",
      "Current maximum depth: 12\n",
      "Average precision score: 0.7565680477798596\n",
      "Average recall score: 0.681624384805721\n",
      "-----------------------------\n",
      "Current estimator: 10\n",
      "Current maximum depth: 3\n",
      "Average precision score: 0.8027493732414165\n",
      "Average recall score: 0.6677432000072508\n",
      "-----------------------------\n",
      "Current estimator: 10\n",
      "Current maximum depth: 6\n",
      "Average precision score: 0.8311301310176029\n",
      "Average recall score: 0.6493141093618294\n",
      "-----------------------------\n",
      "Current estimator: 10\n",
      "Current maximum depth: 9\n",
      "Average precision score: 0.7950567595459237\n",
      "Average recall score: 0.692394023438562\n",
      "-----------------------------\n",
      "Current estimator: 10\n",
      "Current maximum depth: 12\n",
      "Average precision score: 0.7738870776318766\n",
      "Average recall score: 0.6810588139326209\n",
      "-----------------------------\n",
      "Current estimator: 100\n",
      "Current maximum depth: 3\n",
      "Average precision score: 0.8121880745994221\n",
      "Average recall score: 0.6356935040922315\n",
      "-----------------------------\n",
      "Current estimator: 100\n",
      "Current maximum depth: 6\n",
      "Average precision score: 0.8477327565686612\n",
      "Average recall score: 0.6848050411942247\n",
      "-----------------------------\n",
      "Current estimator: 100\n",
      "Current maximum depth: 9\n",
      "Average precision score: 0.8187467310646922\n",
      "Average recall score: 0.7157480671796684\n",
      "-----------------------------\n",
      "Current estimator: 100\n",
      "Current maximum depth: 12\n",
      "Average precision score: 0.7664936914936916\n",
      "Average recall score: 0.7124248851184164\n",
      "-----------------------------\n",
      "Current estimator: 200\n",
      "Current maximum depth: 3\n",
      "Average precision score: 0.814516129032258\n",
      "Average recall score: 0.641420135773264\n",
      "-----------------------------\n",
      "Current estimator: 200\n",
      "Current maximum depth: 6\n",
      "Average precision score: 0.8436580125183656\n",
      "Average recall score: 0.683085216303668\n",
      "-----------------------------\n",
      "Current estimator: 200\n",
      "Current maximum depth: 9\n",
      "Average precision score: 0.8053596843268052\n",
      "Average recall score: 0.7154414896991779\n",
      "-----------------------------\n",
      "Current estimator: 200\n",
      "Current maximum depth: 12\n",
      "Average precision score: 0.7763274356972837\n",
      "Average recall score: 0.7273422700782192\n",
      "-----------------------------\n",
      "Current estimator: 300\n",
      "Current maximum depth: 3\n",
      "Average precision score: 0.8136095298334388\n",
      "Average recall score: 0.6510355203886486\n",
      "-----------------------------\n",
      "Current estimator: 300\n",
      "Current maximum depth: 6\n",
      "Average precision score: 0.8418717380612838\n",
      "Average recall score: 0.6891888952334339\n",
      "-----------------------------\n",
      "Current estimator: 300\n",
      "Current maximum depth: 9\n",
      "Average precision score: 0.8086548012530902\n",
      "Average recall score: 0.7300522971784903\n",
      "-----------------------------\n",
      "Current estimator: 300\n",
      "Current maximum depth: 12\n",
      "Average precision score: 0.7808475591494459\n",
      "Average recall score: 0.7209320136679628\n",
      "-----------------------------\n",
      "Current estimator: 400\n",
      "Current maximum depth: 3\n",
      "Average precision score: 0.8171550671550672\n",
      "Average recall score: 0.631876807062385\n",
      "-----------------------------\n",
      "Current estimator: 400\n",
      "Current maximum depth: 6\n",
      "Average precision score: 0.8293100586018559\n",
      "Average recall score: 0.6776651621031261\n",
      "-----------------------------\n",
      "Current estimator: 400\n",
      "Current maximum depth: 9\n",
      "Average precision score: 0.8064953033764916\n",
      "Average recall score: 0.7212385911484533\n",
      "-----------------------------\n",
      "Current estimator: 400\n",
      "Current maximum depth: 12\n",
      "Average precision score: 0.772217432411607\n",
      "Average recall score: 0.7215451686289439\n",
      "-----------------------------\n",
      "Maximum Precision: 0.8477327565686612\n",
      "Minimum Recall: 0.6848050411942247\n",
      "Best Estimator: 100\n",
      "Best Depth: 6\n"
     ]
    }
   ],
   "source": [
    "from sklearn.ensemble import RandomForestClassifier\n",
    "from sklearn.metrics import recall_score\n",
    "\n",
    "max_p_score = 0\n",
    "score_at_r = 0\n",
    "best_estimator = 0\n",
    "best_depth = 0\n",
    "\n",
    "# grid search on the following\n",
    "number_estimators = [5, 10, 100, 200, 300, 400]\n",
    "maximum_depth = [3, 6, 9, 12]\n",
    "\n",
    "for k in number_estimators:\n",
    "    for j in maximum_depth:\n",
    "        \n",
    "        p_scores = []\n",
    "        r_scores = []\n",
    "\n",
    "        for i, indices in enumerate(kFoldModel.split(X)):\n",
    "            logitModel = RandomForestClassifier(n_estimators = k, max_depth= j)\n",
    "            trainIndices = indices[0]\n",
    "            testIndices = indices[1]\n",
    "\n",
    "            train_val_data_x = X[trainIndices, :12]\n",
    "            train_val_data_y = X[trainIndices, 12]\n",
    "\n",
    "            test_val_data_x = X[testIndices, :12]\n",
    "            test_val_data_y = X[testIndices, 12]\n",
    "\n",
    "            logitModel.fit(train_val_data_x, train_val_data_y)\n",
    "\n",
    "            predictions = logitModel.predict(test_val_data_x)\n",
    "\n",
    "            p_scores.append(precision(test_val_data_y, predictions))\n",
    "            r_scores.append(recall(test_val_data_y, predictions))\n",
    "\n",
    "\n",
    "        av_p_score = sum(p_scores) / 3;\n",
    "        av_r_score = sum(r_scores) / 3;\n",
    "        \n",
    "        print(f\"Current estimator: {k}\")\n",
    "        print(f\"Current maximum depth: {j}\")\n",
    "        print(f\"Average precision score: {av_p_score}\")\n",
    "        print(f\"Average recall score: {av_r_score}\")\n",
    "        print(\"-----------------------------\")\n",
    "        \n",
    "        if av_p_score > max_p_score:\n",
    "            max_p_score = av_p_score;\n",
    "            score_at_r = av_r_score;\n",
    "            best_estimator = k;   \n",
    "            best_depth = j\n",
    "\n",
    "\n",
    "print(f\"Maximum Precision: {max_p_score}\")\n",
    "print(f\"Minimum Recall: {score_at_r}\")\n",
    "print(f\"Best Estimator: {best_estimator}\")\n",
    "print(f\"Best Depth: {best_depth}\")"
   ]
  },
  {
   "cell_type": "markdown",
   "id": "591ba549",
   "metadata": {},
   "source": [
    "We can use the hyperparameter training to find the best estimator and depth and then use those values for further training such as the cell below."
   ]
  },
  {
   "cell_type": "code",
   "execution_count": 47,
   "id": "ffaaf3fb",
   "metadata": {},
   "outputs": [
    {
     "name": "stdout",
     "output_type": "stream",
     "text": [
      "Training cross validation iteration 1\n",
      "Training cross validation iteration 2\n",
      "Training cross validation iteration 3\n",
      "0.7653061224489796\n",
      "0.7211538461538461\n"
     ]
    }
   ],
   "source": [
    "for i, indices in enumerate(kFoldModel.split(X)):\n",
    "        print(f\"Training cross validation iteration {i + 1}\")\n",
    "        logitModel = RandomForestClassifier(n_estimators=best_estimator, max_depth=best_depth)\n",
    "        trainIndices = indices[0]\n",
    "        testIndices = indices[1]\n",
    "\n",
    "        train_val_data_x = X[trainIndices, :12]\n",
    "        train_val_data_y = X[trainIndices, 12]\n",
    "\n",
    "        test_val_data_x = X[testIndices, :12]\n",
    "        test_val_data_y = X[testIndices, 12]\n",
    "\n",
    "        logitModel.fit(train_val_data_x, train_val_data_y)\n",
    "\n",
    "        predictions = logitModel.predict(test_val_data_x)\n",
    "\n",
    "        p_score = precision_score(test_val_data_y, predictions)\n",
    "        r_score = recall_score(test_val_data_y, predictions)\n",
    "        \n",
    "        \n",
    "print(p_score)\n",
    "print(r_score)"
   ]
  },
  {
   "cell_type": "code",
   "execution_count": 48,
   "id": "761df558",
   "metadata": {},
   "outputs": [
    {
     "data": {
      "text/plain": [
       "((594, 12), (594,))"
      ]
     },
     "execution_count": 48,
     "metadata": {},
     "output_type": "execute_result"
    }
   ],
   "source": [
    "X[indices[0], :12].shape, X[indices[0], 12].shape"
   ]
  },
  {
   "cell_type": "code",
   "execution_count": 49,
   "id": "9069fcf1",
   "metadata": {},
   "outputs": [
    {
     "data": {
      "text/plain": [
       "((297, 12), (297,))"
      ]
     },
     "execution_count": 49,
     "metadata": {},
     "output_type": "execute_result"
    }
   ],
   "source": [
    "X[indices[1], :12].shape, X[indices[1], 12].shape"
   ]
  },
  {
   "cell_type": "markdown",
   "id": "2df06139",
   "metadata": {},
   "source": [
    "**K-Fold Validation Method:** This is a custom function for the K-Cross Fold Validation class wrapped into one function. This simply takes in the amount of **n_splits** (default = 3) so that it can decide how many subsets of the dataset the compiler needs to make. Then it returns such values over a period of all permutations and returns respective lists containing the subsets of the training and testing data. "
   ]
  },
  {
   "cell_type": "code",
   "execution_count": 50,
   "id": "f44dafda",
   "metadata": {},
   "outputs": [],
   "source": [
    "def mergeIndices(inputList: list()):\n",
    "    outList = list()\n",
    "    for i in inputList:\n",
    "        outList.extend(list(range(i[0], i[1])))\n",
    "    return outList"
   ]
  },
  {
   "cell_type": "markdown",
   "id": "02255166",
   "metadata": {},
   "source": [
    "This is one way of implementing the **KCrossFold Validation**. This method takes O(n^2) time complexity and produces the same indices as the true sklearn -> KCrossFold Validation method would produce. However, as later seen, we can produce the same values through a O(n) time complexity, making it faster and more efficient for the model. "
   ]
  },
  {
   "cell_type": "code",
   "execution_count": 51,
   "id": "c37fbd5c",
   "metadata": {},
   "outputs": [],
   "source": [
    "def kFoldSplit(data: [], n_splits: int) -> [([], [])]:\n",
    "    n = len(data)\n",
    "    nPerFold = n // n_splits\n",
    "    # the following sets the cut points\n",
    "    splits = list(range(0, n, nPerFold))\n",
    "    # The start and end of each block\n",
    "    foldSlices = [(splits[k], splits[k + 1]) for k in range(len(splits) - 1)]\n",
    "    print(foldSlices)\n",
    "    \n",
    "    outList = list()\n",
    "    for i in foldSlices:\n",
    "        trainList = list()\n",
    "        testList = list()\n",
    "        for j in foldSlices: # [(0, 20), (20, 40), (40, 60)]\n",
    "            if i != j:\n",
    "                trainList.append(j)\n",
    "            else:\n",
    "                testList.append(j)\n",
    "        outList.append((mergeIndices(trainList), mergeIndices(testList)))\n",
    "    return outList"
   ]
  },
  {
   "cell_type": "markdown",
   "id": "0db776e3",
   "metadata": {},
   "source": [
    "This is the way of making it such that O(n) time complexity and produces the same indices that sklearn would produce. One question is if we can make a implementation of **KCrossFoldValidation** with a *sliding window algorithm*. While sliding window does also have an O(n) time complexity, it would be another way of make it more efficient. "
   ]
  },
  {
   "cell_type": "code",
   "execution_count": 52,
   "id": "8c72df23",
   "metadata": {},
   "outputs": [],
   "source": [
    "def kFoldSplit_2(data: [], n_splits: int) -> [([], [])]: # sliding window algorithm\n",
    "    \"\"\"\n",
    "    write docs\n",
    "    Args:\n",
    "        data: \n",
    "        n_splits:\n",
    "    Returns:\n",
    "        \n",
    "    \"\"\"\n",
    "    n = len(data)\n",
    "    nPerFold = n // n_splits\n",
    "    \n",
    "    startIndex = 0\n",
    "    endIndex = nPerFold\n",
    "    \n",
    "    cvFolds = list()\n",
    "    for i in range(n_splits):\n",
    "        if i == 0:\n",
    "            cvFolds.append((list(range(endIndex, n)), list(range(startIndex, endIndex))))\n",
    "        elif i == n_splits - 1:\n",
    "            cvFolds.append((range(0, startIndex), range(startIndex, n)))\n",
    "        else:\n",
    "            cvFolds.append(([list(range(0, startIndex)) + list(range(endIndex, n))], list(range(startIndex, endIndex))))\n",
    "        \n",
    "        startIndex += nPerFold\n",
    "        endIndex += nPerFold\n",
    "    return cvFolds\n"
   ]
  },
  {
   "cell_type": "markdown",
   "id": "0a833ebf",
   "metadata": {},
   "source": [
    "As shown, this tests the optimized **KCrossFoldValidation** method through a generic list. As shown the values produced are the same as produced by the sklearn method. "
   ]
  },
  {
   "cell_type": "code",
   "execution_count": 55,
   "id": "b18ac10d",
   "metadata": {},
   "outputs": [
    {
     "data": {
      "text/plain": [
       "[([2, 3, 4, 5, 6, 7, 8, 9], [0, 1]),\n",
       " ([[0, 1, 4, 5, 6, 7, 8, 9]], [2, 3]),\n",
       " ([[0, 1, 2, 3, 6, 7, 8, 9]], [4, 5]),\n",
       " ([[0, 1, 2, 3, 4, 5, 8, 9]], [6, 7]),\n",
       " (range(0, 8), range(8, 10))]"
      ]
     },
     "execution_count": 55,
     "metadata": {},
     "output_type": "execute_result"
    }
   ],
   "source": [
    "kFoldSplit_2(list(range(10)), 5)"
   ]
  },
  {
   "cell_type": "code",
   "execution_count": 54,
   "id": "dbfca941",
   "metadata": {},
   "outputs": [
    {
     "name": "stdout",
     "output_type": "stream",
     "text": [
      "[ 0  1  2  3  4  5  6  7  8  9 10 11 12 13 14 15 16 17 18 19 20 21 22 23\n",
      " 24 25 26 27 28 29 30 31 32 33]\n",
      "[34 35 36 37 38 39 40 41 42 43 44 45 46 47 48 49 50 51 52 53 54 55 56 57\n",
      " 58 59 60 61 62 63 64 65 66 67]\n",
      "[ 68  69  70  71  72  73  74  75  76  77  78  79  80  81  82  83  84  85\n",
      "  86  87  88  89  90  91  92  93  94  95  96  97  98  99 100]\n"
     ]
    }
   ],
   "source": [
    "values = kFoldModel.split(list(range(101)))\n",
    "\n",
    "for i, value in values:\n",
    "    print(value)"
   ]
  },
  {
   "cell_type": "markdown",
   "id": "3892359b",
   "metadata": {},
   "source": [
    "As shown above, the values that are produced are the same for both versions of the **KCrossFold Validation** methods - one from sklearn and one that was generated by the us."
   ]
  },
  {
   "cell_type": "markdown",
   "id": "7525c4e7",
   "metadata": {},
   "source": [
    "# Conclusion"
   ]
  },
  {
   "cell_type": "markdown",
   "id": "c7cc6e5d",
   "metadata": {},
   "source": [
    "In this notebook, we have demonstrated efficiency with different parts of the model training. More specifically, we investigated: \n",
    "\n",
    "    - NaN values and how they affect the model training, leading to the realization of why we need to **impute** \n",
    "      them.\n",
    "    \n",
    "    - Data analysis and why it is important to visualize the data before we go into any other preparation or \n",
    "      training.\n",
    "    \n",
    "    - Different types of matrices and data that can be produced by the model and given by other libraries for us to \n",
    "      use in model training. \n",
    "      \n",
    "    - How we can mutate the data to add more columns or rows and how we would do such with different libraries \n",
    "      such as NumPy or Pandas. \n",
    "      \n",
    "    - Different models for use and the structure behind them. (LogisticRegression, DecisionTrees, etc.)\n",
    "    \n",
    "    - What are different performance measures and how we can use them to test the predictions of our model. \n",
    "    \n",
    "    - How we can make the model less biased and more prepared for different situations through **KCrossFold** \n",
    "      validation methods. \n",
    "      \n",
    "    - How we can create our own performance indicators and validation methods from scratch through Python, NumPy, \n",
    "      and other library features. \n",
    "      \n",
    "In the end, there is much more to investigate on how to improve the model and better ways to visualize data. However, I think that there was much success as defined by our investigations and we have progressed much more on how we can train models and prepare data for it. "
   ]
  }
 ],
 "metadata": {
  "kernelspec": {
   "display_name": "Python 3 (ipykernel)",
   "language": "python",
   "name": "python3"
  },
  "language_info": {
   "codemirror_mode": {
    "name": "ipython",
    "version": 3
   },
   "file_extension": ".py",
   "mimetype": "text/x-python",
   "name": "python",
   "nbconvert_exporter": "python",
   "pygments_lexer": "ipython3",
   "version": "3.9.13"
  }
 },
 "nbformat": 4,
 "nbformat_minor": 5
}
